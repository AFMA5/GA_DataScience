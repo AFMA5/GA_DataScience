{
 "cells": [
  {
   "cell_type": "markdown",
   "id": "f4947a58",
   "metadata": {},
   "source": [
    "# Part 2: "
   ]
  },
  {
   "cell_type": "markdown",
   "id": "80b2b067",
   "metadata": {},
   "source": [
    "### Student 1"
   ]
  },
  {
   "cell_type": "markdown",
   "id": "e9a3747e",
   "metadata": {},
   "source": [
    "     1. It is encouraged to use the latest version of libraries. So, instead of using \"from sklearn import LinearRegression\" it is better to use \"from sklearn.linear_model import LinearRegression\"\n",
    "\n",
    "    2. Same as point (1), it is better to import \"from sklearn.model_selection import cross_val_score\" as compared to \"from sklearn.cross_validation import cross_val_score\"\n",
    "\n",
    "    3. During data preparation, it is crucial to check on the data quality, integrity, data cleaning (if applicable) etc prior to setting up data for prediction\n",
    "\n",
    "    4. At first, the variable is defined by \"d\", however in x1 and x2, student called the variable as \"data\" instead of \"d\" \n",
    "    \n",
    "    5. Repeated importing of libraries is not necessary."
   ]
  },
  {
   "cell_type": "markdown",
   "id": "f49622ca",
   "metadata": {},
   "source": [
    "### Student 2"
   ]
  },
  {
   "cell_type": "markdown",
   "id": "751bf02f",
   "metadata": {},
   "source": [
    "    1. Same as Student 1, it is better to import \"from sklearn.model_selection import cross_val_score\" instead of \"from sklearn.cross_validation import cross_val_score\"\n",
    "    \n",
    "    2. Student should check on the the data quality, integrity, data cleaning (if applicable) etc prior to setting up data for prediction\n",
    "    \n",
    "    3. In Setup data for prediction, avoid mixing capital letters and small letter for different variables as it may cause confusion in the future.\n",
    "    "
   ]
  },
  {
   "cell_type": "code",
   "execution_count": null,
   "id": "42796cbc",
   "metadata": {},
   "outputs": [],
   "source": []
  }
 ],
 "metadata": {
  "kernelspec": {
   "display_name": "Python 3",
   "language": "python",
   "name": "python3"
  },
  "language_info": {
   "codemirror_mode": {
    "name": "ipython",
    "version": 3
   },
   "file_extension": ".py",
   "mimetype": "text/x-python",
   "name": "python",
   "nbconvert_exporter": "python",
   "pygments_lexer": "ipython3",
   "version": "3.8.8"
  }
 },
 "nbformat": 4,
 "nbformat_minor": 5
}
